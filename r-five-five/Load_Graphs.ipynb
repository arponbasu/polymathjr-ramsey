{
 "cells": [
  {
   "cell_type": "markdown",
   "id": "66b974e1",
   "metadata": {},
   "source": [
    "# How to Load Ramsey Graphs"
   ]
  },
  {
   "cell_type": "markdown",
   "id": "168ca75a",
   "metadata": {},
   "source": [
    "This notebook walks you through how to load graphs from https://users.cecs.anu.edu.au/~bdm/data/ramsey.html. The graphs here are in the g6 format, a way to represent graphs in just a few characters of ASCII. Luckily, `sage` has a convenient method to read g6 strings!"
   ]
  },
  {
   "cell_type": "code",
   "execution_count": 1,
   "id": "f1a510da",
   "metadata": {},
   "outputs": [],
   "source": [
    "from sage.graphs.graph_input import from_graph6"
   ]
  },
  {
   "cell_type": "code",
   "execution_count": 7,
   "id": "19d9ce03",
   "metadata": {},
   "outputs": [],
   "source": [
    "with open('r35_7.g6', 'r') as file: # Opens the file, and closes it once we exit this block. \n",
    "    graphs = file.readlines() "
   ]
  },
  {
   "cell_type": "code",
   "execution_count": 8,
   "id": "0193b43b",
   "metadata": {},
   "outputs": [
    {
     "data": {
      "text/plain": [
       "['F?CeG\\n',\n",
       " 'F?Cmg\\n',\n",
       " 'F?DPO\\n',\n",
       " 'F?DPW\\n',\n",
       " 'F?GQW\\n',\n",
       " 'F?GUW\\n',\n",
       " 'F?GZ_\\n',\n",
       " 'F?G]_\\n',\n",
       " 'F?G^_\\n',\n",
       " 'F?HSo\\n',\n",
       " 'F?KuG\\n',\n",
       " 'F?KuW\\n',\n",
       " 'F?Opo\\n',\n",
       " 'F?Oto\\n',\n",
       " 'F?Oxo\\n',\n",
       " 'F?O|_\\n',\n",
       " 'F?O|o\\n',\n",
       " 'F?O~_\\n',\n",
       " 'F?SsW\\n',\n",
       " 'F?Sv?\\n',\n",
       " 'F?\\\\v_\\n',\n",
       " 'F?_ZG\\n',\n",
       " 'F?`zo\\n',\n",
       " 'F?db_\\n',\n",
       " 'F?df_\\n',\n",
       " 'F?dn_\\n',\n",
       " 'F?lv_\\n',\n",
       " 'F?o_g\\n',\n",
       " 'F?oz_\\n',\n",
       " 'F?ur_\\n',\n",
       " 'F?~v_\\n',\n",
       " 'F@?M?\\n',\n",
       " 'F@Aio\\n',\n",
       " 'F@FNO\\n',\n",
       " 'F@GOW\\n',\n",
       " 'F@G]?\\n',\n",
       " 'F@H]o\\n',\n",
       " 'F@IQO\\n',\n",
       " 'F@IQW\\n',\n",
       " 'F@IYo\\n',\n",
       " 'F@J]o\\n',\n",
       " 'F@O\\\\G\\n',\n",
       " 'F@oZG\\n',\n",
       " 'FAG^G\\n',\n",
       " 'FAOxo\\n',\n",
       " 'FCO_w\\n',\n",
       " 'FCUj_\\n',\n",
       " 'FG?OW\\n',\n",
       " 'FG?[o\\n',\n",
       " 'FG@Xo\\n',\n",
       " 'FGC?G\\n',\n",
       " 'FGCOW\\n',\n",
       " 'FGDHg\\n',\n",
       " 'FG`Xo\\n',\n",
       " 'FI?go\\n',\n",
       " 'FIOxo\\n',\n",
       " 'FIQ|o\\n',\n",
       " 'FI_xo\\n',\n",
       " 'FK`Xo\\n',\n",
       " 'F_?xo\\n',\n",
       " 'F_?zo\\n',\n",
       " 'F_Azo\\n',\n",
       " 'F_GOW\\n',\n",
       " 'F_GZ_\\n',\n",
       " 'F_Oxo\\n',\n",
       " 'F`AZO\\n',\n",
       " 'F`GOW\\n',\n",
       " 'Fo@Xo\\n',\n",
       " 'FoDPO\\n',\n",
       " 'FoDPW\\n',\n",
       " 'FqOxo\\n']"
      ]
     },
     "execution_count": 8,
     "metadata": {},
     "output_type": "execute_result"
    }
   ],
   "source": [
    "graphs"
   ]
  },
  {
   "cell_type": "code",
   "execution_count": 5,
   "id": "e3b09011",
   "metadata": {},
   "outputs": [],
   "source": [
    "g = Graph() # Create an empty graph\n",
    "from_graph6(g, graphs[0]) # Populate it with the first graph in the g6 file. "
   ]
  },
  {
   "cell_type": "code",
   "execution_count": 6,
   "id": "19ef4617",
   "metadata": {},
   "outputs": [
    {
     "data": {
      "image/png": "[encoded data removed]",
      "text/plain": [
       "Graph on 7 vertices"
      ]
     },
     "execution_count": 6,
     "metadata": {},
     "output_type": "execute_result"
    }
   ],
   "source": [
    "g"
   ]
  }
 ],
 "metadata": {
  "kernelspec": {
   "display_name": "SageMath 9.5",
   "language": "sage",
   "name": "sagemath"
  },
  "language_info": {
   "codemirror_mode": {
    "name": "ipython",
    "version": 3
   },
   "file_extension": ".py",
   "mimetype": "text/x-python",
   "name": "python",
   "nbconvert_exporter": "python",
   "pygments_lexer": "ipython3",
   "version": "3.10.5"
  }
 },
 "nbformat": 4,
 "nbformat_minor": 5
}
