{
 "cells": [
  {
   "cell_type": "code",
   "execution_count": 39,
   "metadata": {},
   "outputs": [
    {
     "name": "stdout",
     "output_type": "stream",
     "text": [
      "t^4 + (a + 1)*t^3 + a*t^2 + (a + 1)*t + a\n"
     ]
    }
   ],
   "source": [
    "# This is the code I used to find R(4,4,17) in 8-dim Conlon-Ferber graph.\n",
    "k.<a> = GF(2^2)\n",
    "R = PolynomialRing(k,'t')\n",
    "t = R.gen()\n",
    "f=t^4 + (a + 1)*t^3 + a*t^2 + (a + 1)*t + a\n",
    "f in R\n",
    "print(f.factor()) # Check f is irreducible\n",
    "S = R.quotient(f)\n"
   ]
  },
  {
   "cell_type": "code",
   "execution_count": 40,
   "metadata": {},
   "outputs": [
    {
     "name": "stdout",
     "output_type": "stream",
     "text": [
      "864\n",
      "648\n",
      "\n",
      "624\n",
      "768\n",
      "\n",
      "432\n",
      "2040\n",
      "\n",
      "648\n",
      "936\n",
      "\n",
      "408\n",
      "816\n",
      "\n",
      "864\n",
      "648\n",
      "\n",
      "624\n",
      "768\n",
      "\n",
      "432\n",
      "2040\n",
      "\n",
      "648\n",
      "936\n",
      "\n",
      "408\n",
      "816\n",
      "\n",
      "864\n",
      "648\n",
      "\n",
      "624\n",
      "768\n",
      "\n",
      "432\n",
      "2040\n",
      "\n",
      "648\n",
      "936\n",
      "\n",
      "408\n",
      "816\n",
      "\n"
     ]
    }
   ],
   "source": [
    "# None of cosets of 17-subgraph of Z_255 is R(4,4,17) \n",
    "for cl in range(15):\n",
    "    lis=[]\n",
    "    for i in range(17):\n",
    "        g=t^(15*i+cl)\n",
    "        h=(g.quo_rem(f)[1]).coefficients(sparse=False)\n",
    "        while len(h)<4:\n",
    "            h.append(0)\n",
    "        lis.append(h)\n",
    "    G1=Graph()\n",
    "    G1.add_vertices([0,1,2,3,4,5,6,7,8,9,10,11,12,13,14,15,16])\n",
    "    for j in range(17):\n",
    "        for k in range(j+1,17):\n",
    "            su=0\n",
    "            for i in range(4):\n",
    "                su+=lis[j][i]*lis[k][i]*(lis[j][i]+lis[k][i]) # This is same as the beta(x,y). Not hard to check.\n",
    "            if su==1:\n",
    "                G1.add_edge(j,k)\n",
    "    nc=G1.subgraph_search_count(Graph({0:[],1:[],2:[],3:[]}), induced=True)\n",
    "    print(nc)\n",
    "    mc=G1.subgraph_search_count(graphs.CompleteGraph(4), induced=True)\n",
    "    print(mc)\n",
    "    print(\"\")\n",
    "    "
   ]
  },
  {
   "cell_type": "code",
   "execution_count": 35,
   "metadata": {},
   "outputs": [
    {
     "data": {
      "text/plain": [
       "t * (t + 1) * (t + a) * (t + a + 1) * (t^2 + t + a) * (t^2 + t + a + 1) * (t^2 + a*t + 1) * (t^2 + a*t + a) * (t^2 + (a + 1)*t + 1) * (t^2 + (a + 1)*t + a + 1) * (t^4 + t^2 + a*t + 1) * (t^4 + t^2 + a*t + a + 1) * (t^4 + t^2 + (a + 1)*t + 1) * (t^4 + t^2 + (a + 1)*t + a) * (t^4 + a*t^2 + a*t + a) * (t^4 + a*t^2 + a*t + a + 1) * (t^4 + a*t^2 + (a + 1)*t + 1) * (t^4 + a*t^2 + (a + 1)*t + a + 1) * (t^4 + (a + 1)*t^2 + a*t + 1) * (t^4 + (a + 1)*t^2 + a*t + a) * (t^4 + (a + 1)*t^2 + (a + 1)*t + a) * (t^4 + (a + 1)*t^2 + (a + 1)*t + a + 1) * (t^4 + t^3 + t + a) * (t^4 + t^3 + t + a + 1) * (t^4 + t^3 + a*t + 1) * (t^4 + t^3 + (a + 1)*t + 1) * (t^4 + t^3 + t^2 + a) * (t^4 + t^3 + t^2 + a + 1) * (t^4 + t^3 + t^2 + a*t + a) * (t^4 + t^3 + t^2 + (a + 1)*t + a + 1) * (t^4 + t^3 + a*t^2 + a + 1) * (t^4 + t^3 + a*t^2 + t + 1) * (t^4 + t^3 + a*t^2 + a*t + a) * (t^4 + t^3 + a*t^2 + a*t + a + 1) * (t^4 + t^3 + (a + 1)*t^2 + a) * (t^4 + t^3 + (a + 1)*t^2 + t + 1) * (t^4 + t^3 + (a + 1)*t^2 + (a + 1)*t + a) * (t^4 + t^3 + (a + 1)*t^2 + (a + 1)*t + a + 1) * (t^4 + a*t^3 + t + 1) * (t^4 + a*t^3 + t + a + 1) * (t^4 + a*t^3 + a*t + a) * (t^4 + a*t^3 + (a + 1)*t + a) * (t^4 + a*t^3 + t^2 + 1) * (t^4 + a*t^3 + t^2 + t + a) * (t^4 + a*t^3 + t^2 + a*t + 1) * (t^4 + a*t^3 + t^2 + a*t + a + 1) * (t^4 + a*t^3 + a*t^2 + a + 1) * (t^4 + a*t^3 + a*t^2 + t + a) * (t^4 + a*t^3 + a*t^2 + (a + 1)*t + 1) * (t^4 + a*t^3 + a*t^2 + (a + 1)*t + a + 1) * (t^4 + a*t^3 + (a + 1)*t^2 + 1) * (t^4 + a*t^3 + (a + 1)*t^2 + a + 1) * (t^4 + a*t^3 + (a + 1)*t^2 + a*t + a + 1) * (t^4 + a*t^3 + (a + 1)*t^2 + (a + 1)*t + 1) * (t^4 + (a + 1)*t^3 + t + 1) * (t^4 + (a + 1)*t^3 + t + a) * (t^4 + (a + 1)*t^3 + a*t + a + 1) * (t^4 + (a + 1)*t^3 + (a + 1)*t + a + 1) * (t^4 + (a + 1)*t^3 + t^2 + 1) * (t^4 + (a + 1)*t^3 + t^2 + t + a + 1) * (t^4 + (a + 1)*t^3 + t^2 + (a + 1)*t + 1) * (t^4 + (a + 1)*t^3 + t^2 + (a + 1)*t + a) * (t^4 + (a + 1)*t^3 + a*t^2 + 1) * (t^4 + (a + 1)*t^3 + a*t^2 + a) * (t^4 + (a + 1)*t^3 + a*t^2 + a*t + 1) * (t^4 + (a + 1)*t^3 + a*t^2 + (a + 1)*t + a) * (t^4 + (a + 1)*t^3 + (a + 1)*t^2 + a) * (t^4 + (a + 1)*t^3 + (a + 1)*t^2 + t + a + 1) * (t^4 + (a + 1)*t^3 + (a + 1)*t^2 + a*t + 1) * (t^4 + (a + 1)*t^3 + (a + 1)*t^2 + a*t + a)"
      ]
     },
     "execution_count": 35,
     "metadata": {},
     "output_type": "execute_result"
    }
   ],
   "source": [
    "# If you want to try other irreducible polynomial, choose one of degree 4 polynomial from the result.\n",
    "fw=t^256+t\n",
    "fw.factor()"
   ]
  },
  {
   "cell_type": "code",
   "execution_count": 47,
   "metadata": {},
   "outputs": [],
   "source": [
    "# The 8-dim Conlon-Ferber graph\n",
    "lis=[]\n",
    "for i in range(255):\n",
    "    g=t^(i)\n",
    "    h=(g.quo_rem(f)[1]).coefficients(sparse=False)\n",
    "    while len(h)<4:\n",
    "        h.append(0)\n",
    "    lis.append(h)\n",
    "\n",
    "# Check whether t is a generator or not\n",
    "ordercount=0\n",
    "for el in lis:\n",
    "    if el==[1,0,0,0]:\n",
    "        ordercount+=1\n",
    "    if ordercount !=1:\n",
    "        print(\"error\")\n",
    "\n",
    "G=Graph()\n",
    "for iv in range(255):\n",
    "    G.add_vertices([iv])\n",
    "for j in range(255):\n",
    "    for k in range(j+1,255):\n",
    "        su=0\n",
    "        for i in range(4):\n",
    "            su+=lis[j][i]*lis[k][i]*(lis[j][i]+lis[k][i])\n",
    "        if su==1:\n",
    "            G.add_edge(j,k)\n"
   ]
  },
  {
   "cell_type": "code",
   "execution_count": 42,
   "metadata": {},
   "outputs": [
    {
     "data": {
      "text/plain": [
       "16320"
      ]
     },
     "execution_count": 42,
     "metadata": {},
     "output_type": "execute_result"
    }
   ],
   "source": [
    "# Number of edges in G\n",
    "G.size()"
   ]
  },
  {
   "cell_type": "code",
   "execution_count": 48,
   "metadata": {},
   "outputs": [
    {
     "name": "stdout",
     "output_type": "stream",
     "text": [
      "987033600\n"
     ]
    }
   ],
   "source": [
    "# Finding some good and rare subgraph of G\n",
    "Ga=Graph({0:[2], 1:[3], 2:[], 3:[],4:[]})\n",
    "plot(Ga)\n",
    "nc=G.subgraph_search_count(Ga, induced=True)\n",
    "print(nc)"
   ]
  },
  {
   "cell_type": "code",
   "execution_count": 49,
   "metadata": {},
   "outputs": [
    {
     "name": "stdout",
     "output_type": "stream",
     "text": [
      "[0, 2, 4, 7, 15, 25, 28, 53, 54, 58, 81, 85, 88, 92, 126, 146, 242]\n",
      "[(0, 4, None), (0, 7, None), (0, 25, None), (0, 28, None), (0, 53, None), (0, 85, None), (0, 146, None), (0, 242, None), (2, 4, None), (2, 7, None), (2, 15, None), (2, 28, None), (2, 54, None), (2, 58, None), (2, 92, None), (2, 242, None), (4, 7, None), (4, 15, None), (4, 25, None), (4, 88, None), (4, 126, None), (4, 242, None), (7, 28, None), (7, 54, None), (7, 81, None), (7, 85, None), (7, 88, None), (15, 25, None), (15, 28, None), (15, 81, None), (15, 92, None), (15, 126, None), (15, 146, None), (25, 53, None), (25, 54, None), (25, 88, None), (25, 92, None), (25, 146, None), (28, 53, None), (28, 58, None), (28, 81, None), (28, 146, None), (53, 58, None), (53, 81, None), (53, 88, None), (53, 92, None), (53, 242, None), (54, 58, None), (54, 85, None), (54, 88, None), (54, 92, None), (54, 146, None), (58, 88, None), (58, 126, None), (58, 146, None), (58, 242, None), (81, 85, None), (81, 88, None), (81, 92, None), (81, 126, None), (85, 92, None), (85, 126, None), (85, 146, None), (85, 242, None), (88, 126, None), (92, 242, None), (126, 146, None), (126, 242, None)]\n"
     ]
    }
   ],
   "source": [
    "# Brute force finding\n",
    "nr=G.subgraph_search(graphs.PaleyGraph(17), induced=True)\n",
    "print(nr.vertices())\n",
    "print(nr.edges())"
   ]
  },
  {
   "cell_type": "code",
   "execution_count": null,
   "metadata": {},
   "outputs": [],
   "source": []
  }
 ],
 "metadata": {
  "kernelspec": {
   "display_name": "SageMath 9.3",
   "language": "sage",
   "name": "sagemath"
  },
  "language_info": {
   "codemirror_mode": {
    "name": "ipython",
    "version": 3
   },
   "file_extension": ".py",
   "mimetype": "text/x-python",
   "name": "python",
   "nbconvert_exporter": "python",
   "pygments_lexer": "ipython3",
   "version": "3.7.10"
  }
 },
 "nbformat": 4,
 "nbformat_minor": 4
}
