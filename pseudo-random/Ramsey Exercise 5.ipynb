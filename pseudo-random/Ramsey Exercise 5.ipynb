{
 "cells": [
  {
   "cell_type": "code",
   "execution_count": 2,
   "metadata": {},
   "outputs": [
    {
     "name": "stdout",
     "output_type": "stream",
     "text": [
      "t^4 + a*t^3 + t^2 + 1\n"
     ]
    }
   ],
   "source": [
    "# This is the code I used to find R(4,4,17) in 8-dim Conlon-Ferber graph.\n",
    "k.<a> = GF(2^2)\n",
    "R = PolynomialRing(k,'t')\n",
    "t = R.gen()\n",
    "f=t^4 + a*t^3 + t^2 + 1\n",
    "f in R\n",
    "print(f.factor())\n",
    "S = R.quotient(f)\n"
   ]
  },
  {
   "cell_type": "code",
   "execution_count": 4,
   "metadata": {},
   "outputs": [
    {
     "name": "stdout",
     "output_type": "stream",
     "text": [
      "672\n",
      "1056\n",
      "\n",
      "648\n",
      "912\n",
      "\n",
      "216\n",
      "1416\n",
      "\n",
      "696\n",
      "792\n",
      "\n",
      "360\n",
      "1560\n",
      "\n",
      "672\n",
      "1056\n",
      "\n",
      "648\n",
      "912\n",
      "\n",
      "216\n",
      "1416\n",
      "\n",
      "696\n",
      "792\n",
      "\n",
      "360\n",
      "1560\n",
      "\n",
      "672\n",
      "1056\n",
      "\n",
      "648\n",
      "912\n",
      "\n",
      "216\n",
      "1416\n",
      "\n",
      "696\n",
      "792\n",
      "\n",
      "360\n",
      "1560\n",
      "\n"
     ]
    }
   ],
   "source": [
    "# None of cosets of 17-subgraph of Z_255 is R(4,4,17) \n",
    "for cl in range(15):\n",
    "    lis=[]\n",
    "    for i in range(17):\n",
    "        g=t^(15*i+cl)\n",
    "        h=(g.quo_rem(f)[1]).coefficients(sparse=False)\n",
    "        while len(h)<4:\n",
    "            h.append(0)\n",
    "        lis.append(h)\n",
    "    G1=Graph()\n",
    "    G1.add_vertices([0,1,2,3,4,5,6,7,8,9,10,11,12,13,14,15,16])\n",
    "    for j in range(17):\n",
    "        for k in range(j+1,17):\n",
    "            su=0\n",
    "            for i in range(4):\n",
    "                su+=lis[j][i]*lis[k][i]*(lis[j][i]+lis[k][i])\n",
    "            if su==1:\n",
    "                G1.add_edge(j,k)\n",
    "    nc=G1.subgraph_search_count(Graph({0:[],1:[],2:[],3:[]}), induced=True)\n",
    "    print(nc)\n",
    "    mc=G1.subgraph_search_count(graphs.CompleteGraph(4), induced=True)\n",
    "    print(mc)\n",
    "    print(\"\")\n",
    "    "
   ]
  },
  {
   "cell_type": "code",
   "execution_count": 5,
   "metadata": {},
   "outputs": [
    {
     "data": {
      "text/plain": [
       "t * (t + 1) * (t + a) * (t + a + 1) * (t^2 + t + a) * (t^2 + t + a + 1) * (t^2 + a*t + 1) * (t^2 + a*t + a) * (t^2 + (a + 1)*t + 1) * (t^2 + (a + 1)*t + a + 1) * (t^4 + t^2 + a*t + 1) * (t^4 + t^2 + a*t + a + 1) * (t^4 + t^2 + (a + 1)*t + 1) * (t^4 + t^2 + (a + 1)*t + a) * (t^4 + a*t^2 + a*t + a) * (t^4 + a*t^2 + a*t + a + 1) * (t^4 + a*t^2 + (a + 1)*t + 1) * (t^4 + a*t^2 + (a + 1)*t + a + 1) * (t^4 + (a + 1)*t^2 + a*t + 1) * (t^4 + (a + 1)*t^2 + a*t + a) * (t^4 + (a + 1)*t^2 + (a + 1)*t + a) * (t^4 + (a + 1)*t^2 + (a + 1)*t + a + 1) * (t^4 + t^3 + t + a) * (t^4 + t^3 + t + a + 1) * (t^4 + t^3 + a*t + 1) * (t^4 + t^3 + (a + 1)*t + 1) * (t^4 + t^3 + t^2 + a) * (t^4 + t^3 + t^2 + a + 1) * (t^4 + t^3 + t^2 + a*t + a) * (t^4 + t^3 + t^2 + (a + 1)*t + a + 1) * (t^4 + t^3 + a*t^2 + a + 1) * (t^4 + t^3 + a*t^2 + t + 1) * (t^4 + t^3 + a*t^2 + a*t + a) * (t^4 + t^3 + a*t^2 + a*t + a + 1) * (t^4 + t^3 + (a + 1)*t^2 + a) * (t^4 + t^3 + (a + 1)*t^2 + t + 1) * (t^4 + t^3 + (a + 1)*t^2 + (a + 1)*t + a) * (t^4 + t^3 + (a + 1)*t^2 + (a + 1)*t + a + 1) * (t^4 + a*t^3 + t + 1) * (t^4 + a*t^3 + t + a + 1) * (t^4 + a*t^3 + a*t + a) * (t^4 + a*t^3 + (a + 1)*t + a) * (t^4 + a*t^3 + t^2 + 1) * (t^4 + a*t^3 + t^2 + t + a) * (t^4 + a*t^3 + t^2 + a*t + 1) * (t^4 + a*t^3 + t^2 + a*t + a + 1) * (t^4 + a*t^3 + a*t^2 + a + 1) * (t^4 + a*t^3 + a*t^2 + t + a) * (t^4 + a*t^3 + a*t^2 + (a + 1)*t + 1) * (t^4 + a*t^3 + a*t^2 + (a + 1)*t + a + 1) * (t^4 + a*t^3 + (a + 1)*t^2 + 1) * (t^4 + a*t^3 + (a + 1)*t^2 + a + 1) * (t^4 + a*t^3 + (a + 1)*t^2 + a*t + a + 1) * (t^4 + a*t^3 + (a + 1)*t^2 + (a + 1)*t + 1) * (t^4 + (a + 1)*t^3 + t + 1) * (t^4 + (a + 1)*t^3 + t + a) * (t^4 + (a + 1)*t^3 + a*t + a + 1) * (t^4 + (a + 1)*t^3 + (a + 1)*t + a + 1) * (t^4 + (a + 1)*t^3 + t^2 + 1) * (t^4 + (a + 1)*t^3 + t^2 + t + a + 1) * (t^4 + (a + 1)*t^3 + t^2 + (a + 1)*t + 1) * (t^4 + (a + 1)*t^3 + t^2 + (a + 1)*t + a) * (t^4 + (a + 1)*t^3 + a*t^2 + 1) * (t^4 + (a + 1)*t^3 + a*t^2 + a) * (t^4 + (a + 1)*t^3 + a*t^2 + a*t + 1) * (t^4 + (a + 1)*t^3 + a*t^2 + (a + 1)*t + a) * (t^4 + (a + 1)*t^3 + (a + 1)*t^2 + a) * (t^4 + (a + 1)*t^3 + (a + 1)*t^2 + t + a + 1) * (t^4 + (a + 1)*t^3 + (a + 1)*t^2 + a*t + 1) * (t^4 + (a + 1)*t^3 + (a + 1)*t^2 + a*t + a)"
      ]
     },
     "execution_count": 5,
     "metadata": {},
     "output_type": "execute_result"
    }
   ],
   "source": [
    "# If you want to try other irreducible polynomial, choose one of degree 4 polynomial from the result.\n",
    "fw=t^256+t\n",
    "fw.factor()"
   ]
  },
  {
   "cell_type": "code",
   "execution_count": 11,
   "metadata": {},
   "outputs": [],
   "source": [
    "# The 8-dim Conlon-Ferber graph\n",
    "lis=[]\n",
    "for i in range(255):\n",
    "    g=t^(i)\n",
    "    h=(g.quo_rem(f)[1]).coefficients(sparse=False)\n",
    "    while len(h)<4:\n",
    "        h.append(0)\n",
    "    lis.append(h)\n",
    "\n",
    "G=Graph()\n",
    "for iv in range(255):\n",
    "    G.add_vertices([iv])\n",
    "for j in range(255):\n",
    "    for k in range(j+1,255):\n",
    "        su=0\n",
    "        for i in range(4):\n",
    "            su+=lis[j][i]*lis[k][i]*(lis[j][i]+lis[k][i])\n",
    "        if su==1:\n",
    "            G.add_edge(j,k)\n"
   ]
  },
  {
   "cell_type": "code",
   "execution_count": 12,
   "metadata": {},
   "outputs": [
    {
     "ename": "KeyboardInterrupt",
     "evalue": "",
     "output_type": "error",
     "traceback": [
      "\u001b[0;31m---------------------------------------------------------------------------\u001b[0m",
      "\u001b[0;31mKeyboardInterrupt\u001b[0m                         Traceback (most recent call last)",
      "\u001b[0;32m<ipython-input-12-ee69e9c696bc>\u001b[0m in \u001b[0;36m<module>\u001b[0;34m\u001b[0m\n\u001b[1;32m      1\u001b[0m \u001b[0mGa\u001b[0m\u001b[0;34m=\u001b[0m\u001b[0mGraph\u001b[0m\u001b[0;34m(\u001b[0m\u001b[0;34m{\u001b[0m\u001b[0mInteger\u001b[0m\u001b[0;34m(\u001b[0m\u001b[0;36m0\u001b[0m\u001b[0;34m)\u001b[0m\u001b[0;34m:\u001b[0m\u001b[0;34m[\u001b[0m\u001b[0mInteger\u001b[0m\u001b[0;34m(\u001b[0m\u001b[0;36m2\u001b[0m\u001b[0;34m)\u001b[0m\u001b[0;34m]\u001b[0m\u001b[0;34m,\u001b[0m \u001b[0mInteger\u001b[0m\u001b[0;34m(\u001b[0m\u001b[0;36m1\u001b[0m\u001b[0;34m)\u001b[0m\u001b[0;34m:\u001b[0m\u001b[0;34m[\u001b[0m\u001b[0mInteger\u001b[0m\u001b[0;34m(\u001b[0m\u001b[0;36m3\u001b[0m\u001b[0;34m)\u001b[0m\u001b[0;34m]\u001b[0m\u001b[0;34m,\u001b[0m \u001b[0mInteger\u001b[0m\u001b[0;34m(\u001b[0m\u001b[0;36m2\u001b[0m\u001b[0;34m)\u001b[0m\u001b[0;34m:\u001b[0m\u001b[0;34m[\u001b[0m\u001b[0;34m]\u001b[0m\u001b[0;34m,\u001b[0m \u001b[0mInteger\u001b[0m\u001b[0;34m(\u001b[0m\u001b[0;36m3\u001b[0m\u001b[0;34m)\u001b[0m\u001b[0;34m:\u001b[0m\u001b[0;34m[\u001b[0m\u001b[0;34m]\u001b[0m\u001b[0;34m,\u001b[0m\u001b[0mInteger\u001b[0m\u001b[0;34m(\u001b[0m\u001b[0;36m4\u001b[0m\u001b[0;34m)\u001b[0m\u001b[0;34m:\u001b[0m\u001b[0;34m[\u001b[0m\u001b[0;34m]\u001b[0m\u001b[0;34m}\u001b[0m\u001b[0;34m)\u001b[0m\u001b[0;34m\u001b[0m\u001b[0;34m\u001b[0m\u001b[0m\n\u001b[1;32m      2\u001b[0m \u001b[0mplot\u001b[0m\u001b[0;34m(\u001b[0m\u001b[0mGa\u001b[0m\u001b[0;34m)\u001b[0m\u001b[0;34m\u001b[0m\u001b[0;34m\u001b[0m\u001b[0m\n\u001b[0;32m----> 3\u001b[0;31m \u001b[0mnc\u001b[0m\u001b[0;34m=\u001b[0m\u001b[0mG\u001b[0m\u001b[0;34m.\u001b[0m\u001b[0msubgraph_search_count\u001b[0m\u001b[0;34m(\u001b[0m\u001b[0mGa\u001b[0m\u001b[0;34m,\u001b[0m \u001b[0minduced\u001b[0m\u001b[0;34m=\u001b[0m\u001b[0;32mTrue\u001b[0m\u001b[0;34m)\u001b[0m\u001b[0;34m\u001b[0m\u001b[0;34m\u001b[0m\u001b[0m\n\u001b[0m\u001b[1;32m      4\u001b[0m \u001b[0mprint\u001b[0m\u001b[0;34m(\u001b[0m\u001b[0mnc\u001b[0m\u001b[0;34m)\u001b[0m\u001b[0;34m\u001b[0m\u001b[0;34m\u001b[0m\u001b[0m\n",
      "\u001b[0;32m/opt/sagemath-9.3/local/lib/python3.7/site-packages/sage/graphs/generic_graph.py\u001b[0m in \u001b[0;36msubgraph_search_count\u001b[0;34m(self, G, induced)\u001b[0m\n\u001b[1;32m  13117\u001b[0m         \u001b[0mS\u001b[0m \u001b[0;34m=\u001b[0m \u001b[0mSubgraphSearch\u001b[0m\u001b[0;34m(\u001b[0m\u001b[0mself\u001b[0m\u001b[0;34m,\u001b[0m \u001b[0mG\u001b[0m\u001b[0;34m,\u001b[0m \u001b[0minduced\u001b[0m\u001b[0;34m=\u001b[0m\u001b[0minduced\u001b[0m\u001b[0;34m)\u001b[0m\u001b[0;34m\u001b[0m\u001b[0;34m\u001b[0m\u001b[0m\n\u001b[1;32m  13118\u001b[0m \u001b[0;34m\u001b[0m\u001b[0m\n\u001b[0;32m> 13119\u001b[0;31m         \u001b[0;32mreturn\u001b[0m \u001b[0mS\u001b[0m\u001b[0;34m.\u001b[0m\u001b[0mcardinality\u001b[0m\u001b[0;34m(\u001b[0m\u001b[0;34m)\u001b[0m\u001b[0;34m\u001b[0m\u001b[0;34m\u001b[0m\u001b[0m\n\u001b[0m\u001b[1;32m  13120\u001b[0m \u001b[0;34m\u001b[0m\u001b[0m\n\u001b[1;32m  13121\u001b[0m     \u001b[0;32mdef\u001b[0m \u001b[0msubgraph_search_iterator\u001b[0m\u001b[0;34m(\u001b[0m\u001b[0mself\u001b[0m\u001b[0;34m,\u001b[0m \u001b[0mG\u001b[0m\u001b[0;34m,\u001b[0m \u001b[0minduced\u001b[0m\u001b[0;34m=\u001b[0m\u001b[0;32mFalse\u001b[0m\u001b[0;34m)\u001b[0m\u001b[0;34m:\u001b[0m\u001b[0;34m\u001b[0m\u001b[0;34m\u001b[0m\u001b[0m\n",
      "\u001b[0;32m/opt/sagemath-9.3/local/lib/python3.7/site-packages/sage/graphs/generic_graph_pyx.pyx\u001b[0m in \u001b[0;36msage.graphs.generic_graph_pyx.SubgraphSearch.cardinality (build/cythonized/sage/graphs/generic_graph_pyx.c:9663)\u001b[0;34m()\u001b[0m\n\u001b[1;32m    727\u001b[0m \u001b[0;34m\u001b[0m\u001b[0m\n\u001b[1;32m    728\u001b[0m         \u001b[0mi\u001b[0m\u001b[0;34m=\u001b[0m\u001b[0;36m0\u001b[0m\u001b[0;34m\u001b[0m\u001b[0;34m\u001b[0m\u001b[0m\n\u001b[0;32m--> 729\u001b[0;31m         \u001b[0;32mfor\u001b[0m \u001b[0m_\u001b[0m \u001b[0;32min\u001b[0m \u001b[0mself\u001b[0m\u001b[0;34m:\u001b[0m\u001b[0;34m\u001b[0m\u001b[0;34m\u001b[0m\u001b[0m\n\u001b[0m\u001b[1;32m    730\u001b[0m             \u001b[0mi\u001b[0m\u001b[0;34m+=\u001b[0m\u001b[0;36m1\u001b[0m\u001b[0;34m\u001b[0m\u001b[0;34m\u001b[0m\u001b[0m\n\u001b[1;32m    731\u001b[0m \u001b[0;34m\u001b[0m\u001b[0m\n",
      "\u001b[0;32m/opt/sagemath-9.3/local/lib/python3.7/site-packages/sage/graphs/generic_graph_pyx.pyx\u001b[0m in \u001b[0;36msage.graphs.generic_graph_pyx.SubgraphSearch.__next__ (build/cythonized/sage/graphs/generic_graph_pyx.c:10869)\u001b[0;34m()\u001b[0m\n\u001b[1;32m    884\u001b[0m         \u001b[0;32mif\u001b[0m \u001b[0mself\u001b[0m\u001b[0;34m.\u001b[0m\u001b[0mng\u001b[0m \u001b[0;34m==\u001b[0m \u001b[0;36m0\u001b[0m\u001b[0;34m:\u001b[0m\u001b[0;34m\u001b[0m\u001b[0;34m\u001b[0m\u001b[0m\n\u001b[1;32m    885\u001b[0m             \u001b[0;32mraise\u001b[0m \u001b[0mStopIteration\u001b[0m\u001b[0;34m\u001b[0m\u001b[0;34m\u001b[0m\u001b[0m\n\u001b[0;32m--> 886\u001b[0;31m         \u001b[0msig_on\u001b[0m\u001b[0;34m(\u001b[0m\u001b[0;34m)\u001b[0m\u001b[0;34m\u001b[0m\u001b[0;34m\u001b[0m\u001b[0m\n\u001b[0m\u001b[1;32m    887\u001b[0m         \u001b[0mcdef\u001b[0m \u001b[0mbint\u001b[0m \u001b[0mis_admissible\u001b[0m\u001b[0;34m\u001b[0m\u001b[0;34m\u001b[0m\u001b[0m\n\u001b[1;32m    888\u001b[0m         \u001b[0mcdef\u001b[0m \u001b[0mint\u001b[0m \u001b[0;34m*\u001b[0m \u001b[0mtmp_array\u001b[0m \u001b[0;34m=\u001b[0m \u001b[0mself\u001b[0m\u001b[0;34m.\u001b[0m\u001b[0mtmp_array\u001b[0m\u001b[0;34m\u001b[0m\u001b[0;34m\u001b[0m\u001b[0m\n",
      "\u001b[0;31mKeyboardInterrupt\u001b[0m: "
     ]
    }
   ],
   "source": [
    "# Finding some good and rare subgraph of G\n",
    "Ga=Graph({0:[2], 1:[3], 2:[], 3:[],4:[]})\n",
    "plot(Ga)\n",
    "nc=G.subgraph_search_count(Ga, induced=True)\n",
    "print(nc)"
   ]
  },
  {
   "cell_type": "code",
   "execution_count": null,
   "metadata": {},
   "outputs": [],
   "source": [
    "# The target graph R(4,4,17)\n",
    "Tar=Graph()\n",
    "\n",
    "for iv in range(17):\n",
    "    Tar.add_vertices([iv])\n",
    "for j in range(17):\n",
    "    for k in range(4):\n",
    "        Tar.add_edge(j,(j+2^k)%17)\n",
    "plot(Tar)"
   ]
  },
  {
   "cell_type": "code",
   "execution_count": null,
   "metadata": {},
   "outputs": [],
   "source": [
    "# Brute force finding\n",
    "nr=G.subgraph_search(Tar, induced=True)\n",
    "print(nr.vertices())\n",
    "print(nr.edges())"
   ]
  },
  {
   "cell_type": "code",
   "execution_count": 13,
   "metadata": {},
   "outputs": [
    {
     "name": "stdout",
     "output_type": "stream",
     "text": [
      "[0, 1, 0, 0]\n",
      "[1, 0, 1, a]\n",
      "[a, a, a + 1, 1]\n",
      "[1, 1, a + 1, 1]\n",
      "[a + 1, a, a, a]\n",
      "[a, 1, 0, 1]\n",
      "[a + 1, a, a, 1]\n",
      "[1, 1, a + 1, 0]\n",
      "[0, a + 1, 0, a]\n",
      "[0, a + 1, a, a + 1]\n",
      "[1, 1, a, 0]\n",
      "[0, a, a, a]\n",
      "[0, 1, 0, a]\n",
      "[a, a + 1, 0, 0]\n",
      "[a + 1, 0, a + 1, a + 1]\n",
      "[0, a, a + 1, 1]\n",
      "[1, 1, 0, a + 1]\n"
     ]
    }
   ],
   "source": [
    "# What I found\n",
    "print(lis[1])\n",
    "print(lis[4])\n",
    "print(lis[6])\n",
    "print(lis[8])\n",
    "print(lis[12])\n",
    "print(lis[15])\n",
    "print(lis[18])\n",
    "print(lis[31])\n",
    "print(lis[34])\n",
    "print(lis[37])\n",
    "print(lis[41])\n",
    "print(lis[45])\n",
    "print(lis[56])\n",
    "print(lis[59])\n",
    "print(lis[62])\n",
    "print(lis[65])\n",
    "print(lis[68])"
   ]
  },
  {
   "cell_type": "code",
   "execution_count": 12,
   "metadata": {},
   "outputs": [
    {
     "name": "stdout",
     "output_type": "stream",
     "text": [
      "[1, 4, 6, 8, 12, 15, 18, 31, 34, 37, 41, 45, 56, 59, 62, 65, 68]\n",
      "[(1, 6, None), (1, 12, None), (1, 18, None), (1, 34, None), (1, 37, None), (1, 45, None), (1, 59, None), (1, 65, None), (4, 6, None), (4, 18, None), (4, 31, None), (4, 41, None), (4, 45, None), (4, 59, None), (4, 62, None), (4, 68, None), (6, 12, None), (6, 15, None), (6, 37, None), (6, 41, None), (6, 59, None), (6, 68, None), (8, 15, None), (8, 18, None), (8, 37, None), (8, 41, None), (8, 45, None), (8, 56, None), (8, 65, None), (8, 68, None), (12, 15, None), (12, 18, None), (12, 31, None), (12, 34, None), (12, 56, None), (12, 68, None), (15, 31, None), (15, 41, None), (15, 56, None), (15, 59, None), (15, 65, None), (18, 31, None), (18, 45, None), (18, 65, None), (18, 68, None), (31, 34, None), (31, 41, None), (31, 62, None), (31, 65, None), (34, 37, None), (34, 41, None), (34, 45, None), (34, 56, None), (34, 62, None), (37, 41, None), (37, 62, None), (37, 65, None), (37, 68, None), (41, 45, None), (45, 56, None), (45, 59, None), (56, 59, None), (56, 62, None), (56, 68, None), (59, 62, None), (59, 65, None), (62, 65, None), (62, 68, None)]\n"
     ]
    }
   ],
   "source": []
  }
 ],
 "metadata": {
  "kernelspec": {
   "display_name": "SageMath 9.3",
   "language": "sage",
   "name": "sagemath"
  },
  "language_info": {
   "codemirror_mode": {
    "name": "ipython",
    "version": 3
   },
   "file_extension": ".py",
   "mimetype": "text/x-python",
   "name": "python",
   "nbconvert_exporter": "python",
   "pygments_lexer": "ipython3",
   "version": "3.7.10"
  }
 },
 "nbformat": 4,
 "nbformat_minor": 4
}
